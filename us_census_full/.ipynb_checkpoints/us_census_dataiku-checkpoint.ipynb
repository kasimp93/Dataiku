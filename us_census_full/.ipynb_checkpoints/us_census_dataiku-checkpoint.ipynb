{
 "cells": [
  {
   "cell_type": "markdown",
   "metadata": {},
   "source": [
    "# Dataiku Interview Challenge"
   ]
  },
  {
   "cell_type": "markdown",
   "metadata": {},
   "source": [
    "This US Census dataset contains detailed but anonymized information for approximately 300,000 people.\n",
    "\n",
    "The archive contains 3 files: <br>\n",
    "o A large learning .csv file <br>\n",
    "o Another test .csv file <br>\n",
    "o A metadata file describing the columns of the two above mentioned files (identical for both)\n",
    "\n",
    "The goal of this exercise is to model the information contained in the last column (42nd), i.e., which people make more or less than $50,000 / year, from the information contained in the other columns. The exercise here consists of modeling a binary variable. \n"
   ]
  },
  {
   "cell_type": "markdown",
   "metadata": {},
   "source": [
    "## Import Modules"
   ]
  },
  {
   "cell_type": "code",
   "execution_count": 48,
   "metadata": {
    "collapsed": false
   },
   "outputs": [
    {
     "name": "stdout",
     "output_type": "stream",
     "text": [
      "Importing Modules ...\n",
      "\n",
      "Imported ...\n"
     ]
    }
   ],
   "source": [
    "print('Importing Modules ...\\n')\n",
    "\n",
    "import pandas as pd\n",
    "import numpy as np\n",
    "import csv\n",
    "import seaborn as sns\n",
    "import matplotlib.pyplot as plt\n",
    "from sklearn.metrics import accuracy_score, f1_score, confusion_matrix\n",
    "from sklearn.feature_selection import SelectKBest, SelectPercentile, VarianceThreshold, chi2, f_classif\n",
    "from sklearn.linear_model import LogisticRegression\n",
    "from sklearn.ensemble import AdaBoostClassifier,  GradientBoostingClassifier, RandomForestClassifier\n",
    "from sklearn import tree\n",
    "from sklearn import metrics\n",
    "from sklearn.naive_bayes import BernoulliNB, GaussianNB\n",
    "from sklearn.decomposition import PCA\n",
    "from sklearn.neural_network import MLPClassifier\n",
    "from sklearn.preprocessing import StandardScaler\n",
    "from sklearn.metrics import classification_report\n",
    "from sklearn.metrics import roc_curve, auc\n",
    "from sklearn.model_selection import cross_val_score\n",
    "\n",
    "\n",
    "print('Imported ...')"
   ]
  },
  {
   "cell_type": "markdown",
   "metadata": {},
   "source": [
    "## Reading Training Data"
   ]
  },
  {
   "cell_type": "code",
   "execution_count": 49,
   "metadata": {
    "collapsed": false,
    "scrolled": true
   },
   "outputs": [
    {
     "name": "stdout",
     "output_type": "stream",
     "text": [
      "Training set contains approximately  199523 samples and 42 features\n"
     ]
    },
    {
     "data": {
      "text/html": [
       "<div>\n",
       "<table border=\"1\" class=\"dataframe\">\n",
       "  <thead>\n",
       "    <tr style=\"text-align: right;\">\n",
       "      <th></th>\n",
       "      <th>0</th>\n",
       "      <th>1</th>\n",
       "      <th>2</th>\n",
       "      <th>3</th>\n",
       "      <th>4</th>\n",
       "      <th>5</th>\n",
       "      <th>6</th>\n",
       "      <th>7</th>\n",
       "      <th>8</th>\n",
       "      <th>9</th>\n",
       "      <th>...</th>\n",
       "      <th>32</th>\n",
       "      <th>33</th>\n",
       "      <th>34</th>\n",
       "      <th>35</th>\n",
       "      <th>36</th>\n",
       "      <th>37</th>\n",
       "      <th>38</th>\n",
       "      <th>39</th>\n",
       "      <th>40</th>\n",
       "      <th>41</th>\n",
       "    </tr>\n",
       "  </thead>\n",
       "  <tbody>\n",
       "    <tr>\n",
       "      <th>0</th>\n",
       "      <td>73</td>\n",
       "      <td>NaN</td>\n",
       "      <td>0</td>\n",
       "      <td>0</td>\n",
       "      <td>High school graduate</td>\n",
       "      <td>0</td>\n",
       "      <td>NaN</td>\n",
       "      <td>Widowed</td>\n",
       "      <td>Not in universe or children</td>\n",
       "      <td>NaN</td>\n",
       "      <td>...</td>\n",
       "      <td>United-States</td>\n",
       "      <td>United-States</td>\n",
       "      <td>United-States</td>\n",
       "      <td>Native- Born in the United States</td>\n",
       "      <td>0</td>\n",
       "      <td>NaN</td>\n",
       "      <td>2</td>\n",
       "      <td>0</td>\n",
       "      <td>95</td>\n",
       "      <td>- 50000.</td>\n",
       "    </tr>\n",
       "    <tr>\n",
       "      <th>1</th>\n",
       "      <td>58</td>\n",
       "      <td>Self-employed-not incorporated</td>\n",
       "      <td>4</td>\n",
       "      <td>34</td>\n",
       "      <td>Some college but no degree</td>\n",
       "      <td>0</td>\n",
       "      <td>NaN</td>\n",
       "      <td>Divorced</td>\n",
       "      <td>Construction</td>\n",
       "      <td>Precision production craft &amp; repair</td>\n",
       "      <td>...</td>\n",
       "      <td>United-States</td>\n",
       "      <td>United-States</td>\n",
       "      <td>United-States</td>\n",
       "      <td>Native- Born in the United States</td>\n",
       "      <td>0</td>\n",
       "      <td>NaN</td>\n",
       "      <td>2</td>\n",
       "      <td>52</td>\n",
       "      <td>94</td>\n",
       "      <td>- 50000.</td>\n",
       "    </tr>\n",
       "  </tbody>\n",
       "</table>\n",
       "<p>2 rows × 42 columns</p>\n",
       "</div>"
      ],
      "text/plain": [
       "   0                               1   2   3                           4   5   \\\n",
       "0  73                             NaN   0   0        High school graduate   0   \n",
       "1  58  Self-employed-not incorporated   4  34  Some college but no degree   0   \n",
       "\n",
       "    6         7                            8   \\\n",
       "0  NaN   Widowed  Not in universe or children   \n",
       "1  NaN  Divorced                 Construction   \n",
       "\n",
       "                                    9     ...                32  \\\n",
       "0                                  NaN    ...     United-States   \n",
       "1  Precision production craft & repair    ...     United-States   \n",
       "\n",
       "              33             34                                 35 36   37  \\\n",
       "0  United-States  United-States  Native- Born in the United States  0  NaN   \n",
       "1  United-States  United-States  Native- Born in the United States  0  NaN   \n",
       "\n",
       "   38  39  40        41  \n",
       "0   2   0  95  - 50000.  \n",
       "1   2  52  94  - 50000.  \n",
       "\n",
       "[2 rows x 42 columns]"
      ]
     },
     "execution_count": 49,
     "metadata": {},
     "output_type": "execute_result"
    }
   ],
   "source": [
    "#Load Training Data\n",
    "df_learning = pd.read_csv('census_income_learn.csv', header = None, skipinitialspace = True, na_values= \"Not in universe\")\n",
    "print('Training set contains approximately ',len(df_learning),'samples and', len(df_learning.columns) ,'features')\n",
    "df_learning.head(2)"
   ]
  },
  {
   "cell_type": "markdown",
   "metadata": {},
   "source": [
    "## Reading Test Data"
   ]
  },
  {
   "cell_type": "code",
   "execution_count": 50,
   "metadata": {
    "collapsed": false,
    "scrolled": true
   },
   "outputs": [
    {
     "name": "stdout",
     "output_type": "stream",
     "text": [
      "Test set contains approximately 99762 samples and 42 features\n"
     ]
    },
    {
     "data": {
      "text/html": [
       "<div>\n",
       "<table border=\"1\" class=\"dataframe\">\n",
       "  <thead>\n",
       "    <tr style=\"text-align: right;\">\n",
       "      <th></th>\n",
       "      <th>0</th>\n",
       "      <th>1</th>\n",
       "      <th>2</th>\n",
       "      <th>3</th>\n",
       "      <th>4</th>\n",
       "      <th>5</th>\n",
       "      <th>6</th>\n",
       "      <th>7</th>\n",
       "      <th>8</th>\n",
       "      <th>9</th>\n",
       "      <th>...</th>\n",
       "      <th>32</th>\n",
       "      <th>33</th>\n",
       "      <th>34</th>\n",
       "      <th>35</th>\n",
       "      <th>36</th>\n",
       "      <th>37</th>\n",
       "      <th>38</th>\n",
       "      <th>39</th>\n",
       "      <th>40</th>\n",
       "      <th>41</th>\n",
       "    </tr>\n",
       "  </thead>\n",
       "  <tbody>\n",
       "    <tr>\n",
       "      <th>0</th>\n",
       "      <td>38</td>\n",
       "      <td>Private</td>\n",
       "      <td>6</td>\n",
       "      <td>36</td>\n",
       "      <td>1st 2nd 3rd or 4th grade</td>\n",
       "      <td>0</td>\n",
       "      <td>NaN</td>\n",
       "      <td>Married-civilian spouse present</td>\n",
       "      <td>Manufacturing-durable goods</td>\n",
       "      <td>Machine operators assmblrs &amp; inspctrs</td>\n",
       "      <td>...</td>\n",
       "      <td>Mexico</td>\n",
       "      <td>Mexico</td>\n",
       "      <td>Mexico</td>\n",
       "      <td>Foreign born- Not a citizen of U S</td>\n",
       "      <td>0</td>\n",
       "      <td>NaN</td>\n",
       "      <td>2</td>\n",
       "      <td>12</td>\n",
       "      <td>95</td>\n",
       "      <td>- 50000.</td>\n",
       "    </tr>\n",
       "    <tr>\n",
       "      <th>1</th>\n",
       "      <td>44</td>\n",
       "      <td>Self-employed-not incorporated</td>\n",
       "      <td>37</td>\n",
       "      <td>12</td>\n",
       "      <td>Associates degree-occup /vocational</td>\n",
       "      <td>0</td>\n",
       "      <td>NaN</td>\n",
       "      <td>Married-civilian spouse present</td>\n",
       "      <td>Business and repair services</td>\n",
       "      <td>Professional specialty</td>\n",
       "      <td>...</td>\n",
       "      <td>United-States</td>\n",
       "      <td>United-States</td>\n",
       "      <td>United-States</td>\n",
       "      <td>Native- Born in the United States</td>\n",
       "      <td>0</td>\n",
       "      <td>NaN</td>\n",
       "      <td>2</td>\n",
       "      <td>26</td>\n",
       "      <td>95</td>\n",
       "      <td>- 50000.</td>\n",
       "    </tr>\n",
       "  </tbody>\n",
       "</table>\n",
       "<p>2 rows × 42 columns</p>\n",
       "</div>"
      ],
      "text/plain": [
       "   0                               1   2   3   \\\n",
       "0  38                         Private   6  36   \n",
       "1  44  Self-employed-not incorporated  37  12   \n",
       "\n",
       "                                    4   5    6   \\\n",
       "0             1st 2nd 3rd or 4th grade   0  NaN   \n",
       "1  Associates degree-occup /vocational   0  NaN   \n",
       "\n",
       "                                7                             8   \\\n",
       "0  Married-civilian spouse present   Manufacturing-durable goods   \n",
       "1  Married-civilian spouse present  Business and repair services   \n",
       "\n",
       "                                      9     ...                32  \\\n",
       "0  Machine operators assmblrs & inspctrs    ...            Mexico   \n",
       "1                 Professional specialty    ...     United-States   \n",
       "\n",
       "              33             34                                   35 36   37  \\\n",
       "0         Mexico         Mexico  Foreign born- Not a citizen of U S   0  NaN   \n",
       "1  United-States  United-States    Native- Born in the United States  0  NaN   \n",
       "\n",
       "   38  39  40        41  \n",
       "0   2  12  95  - 50000.  \n",
       "1   2  26  95  - 50000.  \n",
       "\n",
       "[2 rows x 42 columns]"
      ]
     },
     "execution_count": 50,
     "metadata": {},
     "output_type": "execute_result"
    }
   ],
   "source": [
    "#Load Test Data\n",
    "df_test = pd.read_csv('census_income_test.csv', header = None ,skipinitialspace = True, na_values= \"Not in universe\" )\n",
    "print('Test set contains approximately',len(df_test), 'samples and', len(df_test.columns) ,'features')\n",
    "df_test.head(2)"
   ]
  },
  {
   "cell_type": "markdown",
   "metadata": {},
   "source": [
    "## Loading Columns"
   ]
  },
  {
   "cell_type": "code",
   "execution_count": 51,
   "metadata": {
    "collapsed": false
   },
   "outputs": [],
   "source": [
    "with open(\"col.txt\", 'r') as f :\n",
    "    all_col = f.readlines()\n",
    "\n",
    "col_names = [elt.split(\":\")[0].strip() for elt in all_col] + [\"target\"]\n",
    "df_learning.columns = col_names\n",
    "df_test.columns = col_names"
   ]
  },
  {
   "cell_type": "markdown",
   "metadata": {},
   "source": [
    "## Initial Quick Data Visualization and Analysis\n",
    "\n",
    "Quick statistic based and univariate audit of the different columns’ content and produce the results in visual / graphic format from the test and training file"
   ]
  },
  {
   "cell_type": "code",
   "execution_count": 52,
   "metadata": {
    "collapsed": false
   },
   "outputs": [
    {
     "data": {
      "text/html": [
       "<div>\n",
       "<table border=\"1\" class=\"dataframe\">\n",
       "  <thead>\n",
       "    <tr style=\"text-align: right;\">\n",
       "      <th></th>\n",
       "      <th>age</th>\n",
       "      <th>class of worker</th>\n",
       "      <th>detailed industry recode</th>\n",
       "      <th>detailed occupation recode</th>\n",
       "      <th>education</th>\n",
       "      <th>wage per hour</th>\n",
       "      <th>enroll in edu inst last wk</th>\n",
       "      <th>marital stat</th>\n",
       "      <th>major industry code</th>\n",
       "      <th>major occupation code</th>\n",
       "      <th>...</th>\n",
       "      <th>country of birth father</th>\n",
       "      <th>country of birth mother</th>\n",
       "      <th>country of birth self</th>\n",
       "      <th>citizenship</th>\n",
       "      <th>own business or self employed</th>\n",
       "      <th>fill inc questionnaire for veteran's admin</th>\n",
       "      <th>veterans benefits</th>\n",
       "      <th>weeks worked in year</th>\n",
       "      <th>year</th>\n",
       "      <th>target</th>\n",
       "    </tr>\n",
       "  </thead>\n",
       "  <tbody>\n",
       "    <tr>\n",
       "      <th>count</th>\n",
       "      <td>199523.000000</td>\n",
       "      <td>99278</td>\n",
       "      <td>199523.000000</td>\n",
       "      <td>199523.000000</td>\n",
       "      <td>199523</td>\n",
       "      <td>199523.000000</td>\n",
       "      <td>12580</td>\n",
       "      <td>199523</td>\n",
       "      <td>199523</td>\n",
       "      <td>98839</td>\n",
       "      <td>...</td>\n",
       "      <td>199523</td>\n",
       "      <td>199523</td>\n",
       "      <td>199523</td>\n",
       "      <td>199523</td>\n",
       "      <td>199523.000000</td>\n",
       "      <td>1984</td>\n",
       "      <td>199523.000000</td>\n",
       "      <td>199523.000000</td>\n",
       "      <td>199523.000000</td>\n",
       "      <td>199523</td>\n",
       "    </tr>\n",
       "    <tr>\n",
       "      <th>unique</th>\n",
       "      <td>NaN</td>\n",
       "      <td>8</td>\n",
       "      <td>NaN</td>\n",
       "      <td>NaN</td>\n",
       "      <td>17</td>\n",
       "      <td>NaN</td>\n",
       "      <td>2</td>\n",
       "      <td>7</td>\n",
       "      <td>24</td>\n",
       "      <td>14</td>\n",
       "      <td>...</td>\n",
       "      <td>43</td>\n",
       "      <td>43</td>\n",
       "      <td>43</td>\n",
       "      <td>5</td>\n",
       "      <td>NaN</td>\n",
       "      <td>2</td>\n",
       "      <td>NaN</td>\n",
       "      <td>NaN</td>\n",
       "      <td>NaN</td>\n",
       "      <td>2</td>\n",
       "    </tr>\n",
       "    <tr>\n",
       "      <th>top</th>\n",
       "      <td>NaN</td>\n",
       "      <td>Private</td>\n",
       "      <td>NaN</td>\n",
       "      <td>NaN</td>\n",
       "      <td>High school graduate</td>\n",
       "      <td>NaN</td>\n",
       "      <td>High school</td>\n",
       "      <td>Never married</td>\n",
       "      <td>Not in universe or children</td>\n",
       "      <td>Adm support including clerical</td>\n",
       "      <td>...</td>\n",
       "      <td>United-States</td>\n",
       "      <td>United-States</td>\n",
       "      <td>United-States</td>\n",
       "      <td>Native- Born in the United States</td>\n",
       "      <td>NaN</td>\n",
       "      <td>No</td>\n",
       "      <td>NaN</td>\n",
       "      <td>NaN</td>\n",
       "      <td>NaN</td>\n",
       "      <td>- 50000.</td>\n",
       "    </tr>\n",
       "    <tr>\n",
       "      <th>freq</th>\n",
       "      <td>NaN</td>\n",
       "      <td>72028</td>\n",
       "      <td>NaN</td>\n",
       "      <td>NaN</td>\n",
       "      <td>48407</td>\n",
       "      <td>NaN</td>\n",
       "      <td>6892</td>\n",
       "      <td>86485</td>\n",
       "      <td>100684</td>\n",
       "      <td>14837</td>\n",
       "      <td>...</td>\n",
       "      <td>159163</td>\n",
       "      <td>160479</td>\n",
       "      <td>176989</td>\n",
       "      <td>176992</td>\n",
       "      <td>NaN</td>\n",
       "      <td>1593</td>\n",
       "      <td>NaN</td>\n",
       "      <td>NaN</td>\n",
       "      <td>NaN</td>\n",
       "      <td>187141</td>\n",
       "    </tr>\n",
       "    <tr>\n",
       "      <th>mean</th>\n",
       "      <td>34.494199</td>\n",
       "      <td>NaN</td>\n",
       "      <td>15.352320</td>\n",
       "      <td>11.306556</td>\n",
       "      <td>NaN</td>\n",
       "      <td>55.426908</td>\n",
       "      <td>NaN</td>\n",
       "      <td>NaN</td>\n",
       "      <td>NaN</td>\n",
       "      <td>NaN</td>\n",
       "      <td>...</td>\n",
       "      <td>NaN</td>\n",
       "      <td>NaN</td>\n",
       "      <td>NaN</td>\n",
       "      <td>NaN</td>\n",
       "      <td>0.175438</td>\n",
       "      <td>NaN</td>\n",
       "      <td>1.514833</td>\n",
       "      <td>23.174897</td>\n",
       "      <td>94.499672</td>\n",
       "      <td>NaN</td>\n",
       "    </tr>\n",
       "    <tr>\n",
       "      <th>std</th>\n",
       "      <td>22.310895</td>\n",
       "      <td>NaN</td>\n",
       "      <td>18.067129</td>\n",
       "      <td>14.454204</td>\n",
       "      <td>NaN</td>\n",
       "      <td>274.896454</td>\n",
       "      <td>NaN</td>\n",
       "      <td>NaN</td>\n",
       "      <td>NaN</td>\n",
       "      <td>NaN</td>\n",
       "      <td>...</td>\n",
       "      <td>NaN</td>\n",
       "      <td>NaN</td>\n",
       "      <td>NaN</td>\n",
       "      <td>NaN</td>\n",
       "      <td>0.553694</td>\n",
       "      <td>NaN</td>\n",
       "      <td>0.851473</td>\n",
       "      <td>24.411488</td>\n",
       "      <td>0.500001</td>\n",
       "      <td>NaN</td>\n",
       "    </tr>\n",
       "    <tr>\n",
       "      <th>min</th>\n",
       "      <td>0.000000</td>\n",
       "      <td>NaN</td>\n",
       "      <td>0.000000</td>\n",
       "      <td>0.000000</td>\n",
       "      <td>NaN</td>\n",
       "      <td>0.000000</td>\n",
       "      <td>NaN</td>\n",
       "      <td>NaN</td>\n",
       "      <td>NaN</td>\n",
       "      <td>NaN</td>\n",
       "      <td>...</td>\n",
       "      <td>NaN</td>\n",
       "      <td>NaN</td>\n",
       "      <td>NaN</td>\n",
       "      <td>NaN</td>\n",
       "      <td>0.000000</td>\n",
       "      <td>NaN</td>\n",
       "      <td>0.000000</td>\n",
       "      <td>0.000000</td>\n",
       "      <td>94.000000</td>\n",
       "      <td>NaN</td>\n",
       "    </tr>\n",
       "    <tr>\n",
       "      <th>25%</th>\n",
       "      <td>15.000000</td>\n",
       "      <td>NaN</td>\n",
       "      <td>0.000000</td>\n",
       "      <td>0.000000</td>\n",
       "      <td>NaN</td>\n",
       "      <td>0.000000</td>\n",
       "      <td>NaN</td>\n",
       "      <td>NaN</td>\n",
       "      <td>NaN</td>\n",
       "      <td>NaN</td>\n",
       "      <td>...</td>\n",
       "      <td>NaN</td>\n",
       "      <td>NaN</td>\n",
       "      <td>NaN</td>\n",
       "      <td>NaN</td>\n",
       "      <td>0.000000</td>\n",
       "      <td>NaN</td>\n",
       "      <td>2.000000</td>\n",
       "      <td>0.000000</td>\n",
       "      <td>94.000000</td>\n",
       "      <td>NaN</td>\n",
       "    </tr>\n",
       "    <tr>\n",
       "      <th>50%</th>\n",
       "      <td>33.000000</td>\n",
       "      <td>NaN</td>\n",
       "      <td>0.000000</td>\n",
       "      <td>0.000000</td>\n",
       "      <td>NaN</td>\n",
       "      <td>0.000000</td>\n",
       "      <td>NaN</td>\n",
       "      <td>NaN</td>\n",
       "      <td>NaN</td>\n",
       "      <td>NaN</td>\n",
       "      <td>...</td>\n",
       "      <td>NaN</td>\n",
       "      <td>NaN</td>\n",
       "      <td>NaN</td>\n",
       "      <td>NaN</td>\n",
       "      <td>0.000000</td>\n",
       "      <td>NaN</td>\n",
       "      <td>2.000000</td>\n",
       "      <td>8.000000</td>\n",
       "      <td>94.000000</td>\n",
       "      <td>NaN</td>\n",
       "    </tr>\n",
       "    <tr>\n",
       "      <th>75%</th>\n",
       "      <td>50.000000</td>\n",
       "      <td>NaN</td>\n",
       "      <td>33.000000</td>\n",
       "      <td>26.000000</td>\n",
       "      <td>NaN</td>\n",
       "      <td>0.000000</td>\n",
       "      <td>NaN</td>\n",
       "      <td>NaN</td>\n",
       "      <td>NaN</td>\n",
       "      <td>NaN</td>\n",
       "      <td>...</td>\n",
       "      <td>NaN</td>\n",
       "      <td>NaN</td>\n",
       "      <td>NaN</td>\n",
       "      <td>NaN</td>\n",
       "      <td>0.000000</td>\n",
       "      <td>NaN</td>\n",
       "      <td>2.000000</td>\n",
       "      <td>52.000000</td>\n",
       "      <td>95.000000</td>\n",
       "      <td>NaN</td>\n",
       "    </tr>\n",
       "    <tr>\n",
       "      <th>max</th>\n",
       "      <td>90.000000</td>\n",
       "      <td>NaN</td>\n",
       "      <td>51.000000</td>\n",
       "      <td>46.000000</td>\n",
       "      <td>NaN</td>\n",
       "      <td>9999.000000</td>\n",
       "      <td>NaN</td>\n",
       "      <td>NaN</td>\n",
       "      <td>NaN</td>\n",
       "      <td>NaN</td>\n",
       "      <td>...</td>\n",
       "      <td>NaN</td>\n",
       "      <td>NaN</td>\n",
       "      <td>NaN</td>\n",
       "      <td>NaN</td>\n",
       "      <td>2.000000</td>\n",
       "      <td>NaN</td>\n",
       "      <td>2.000000</td>\n",
       "      <td>52.000000</td>\n",
       "      <td>95.000000</td>\n",
       "      <td>NaN</td>\n",
       "    </tr>\n",
       "  </tbody>\n",
       "</table>\n",
       "<p>11 rows × 42 columns</p>\n",
       "</div>"
      ],
      "text/plain": [
       "                  age class of worker  detailed industry recode  \\\n",
       "count   199523.000000           99278             199523.000000   \n",
       "unique            NaN               8                       NaN   \n",
       "top               NaN         Private                       NaN   \n",
       "freq              NaN           72028                       NaN   \n",
       "mean        34.494199             NaN                 15.352320   \n",
       "std         22.310895             NaN                 18.067129   \n",
       "min          0.000000             NaN                  0.000000   \n",
       "25%         15.000000             NaN                  0.000000   \n",
       "50%         33.000000             NaN                  0.000000   \n",
       "75%         50.000000             NaN                 33.000000   \n",
       "max         90.000000             NaN                 51.000000   \n",
       "\n",
       "        detailed occupation recode             education  wage per hour  \\\n",
       "count                199523.000000                199523  199523.000000   \n",
       "unique                         NaN                    17            NaN   \n",
       "top                            NaN  High school graduate            NaN   \n",
       "freq                           NaN                 48407            NaN   \n",
       "mean                     11.306556                   NaN      55.426908   \n",
       "std                      14.454204                   NaN     274.896454   \n",
       "min                       0.000000                   NaN       0.000000   \n",
       "25%                       0.000000                   NaN       0.000000   \n",
       "50%                       0.000000                   NaN       0.000000   \n",
       "75%                      26.000000                   NaN       0.000000   \n",
       "max                      46.000000                   NaN    9999.000000   \n",
       "\n",
       "       enroll in edu inst last wk   marital stat          major industry code  \\\n",
       "count                       12580         199523                       199523   \n",
       "unique                          2              7                           24   \n",
       "top                   High school  Never married  Not in universe or children   \n",
       "freq                         6892          86485                       100684   \n",
       "mean                          NaN            NaN                          NaN   \n",
       "std                           NaN            NaN                          NaN   \n",
       "min                           NaN            NaN                          NaN   \n",
       "25%                           NaN            NaN                          NaN   \n",
       "50%                           NaN            NaN                          NaN   \n",
       "75%                           NaN            NaN                          NaN   \n",
       "max                           NaN            NaN                          NaN   \n",
       "\n",
       "                 major occupation code    ...    country of birth father  \\\n",
       "count                            98839    ...                     199523   \n",
       "unique                              14    ...                         43   \n",
       "top     Adm support including clerical    ...              United-States   \n",
       "freq                             14837    ...                     159163   \n",
       "mean                               NaN    ...                        NaN   \n",
       "std                                NaN    ...                        NaN   \n",
       "min                                NaN    ...                        NaN   \n",
       "25%                                NaN    ...                        NaN   \n",
       "50%                                NaN    ...                        NaN   \n",
       "75%                                NaN    ...                        NaN   \n",
       "max                                NaN    ...                        NaN   \n",
       "\n",
       "       country of birth mother country of birth self  \\\n",
       "count                   199523                199523   \n",
       "unique                      43                    43   \n",
       "top              United-States         United-States   \n",
       "freq                    160479                176989   \n",
       "mean                       NaN                   NaN   \n",
       "std                        NaN                   NaN   \n",
       "min                        NaN                   NaN   \n",
       "25%                        NaN                   NaN   \n",
       "50%                        NaN                   NaN   \n",
       "75%                        NaN                   NaN   \n",
       "max                        NaN                   NaN   \n",
       "\n",
       "                              citizenship own business or self employed  \\\n",
       "count                              199523                 199523.000000   \n",
       "unique                                  5                           NaN   \n",
       "top     Native- Born in the United States                           NaN   \n",
       "freq                               176992                           NaN   \n",
       "mean                                  NaN                      0.175438   \n",
       "std                                   NaN                      0.553694   \n",
       "min                                   NaN                      0.000000   \n",
       "25%                                   NaN                      0.000000   \n",
       "50%                                   NaN                      0.000000   \n",
       "75%                                   NaN                      0.000000   \n",
       "max                                   NaN                      2.000000   \n",
       "\n",
       "       fill inc questionnaire for veteran's admin  veterans benefits  \\\n",
       "count                                        1984      199523.000000   \n",
       "unique                                          2                NaN   \n",
       "top                                            No                NaN   \n",
       "freq                                         1593                NaN   \n",
       "mean                                          NaN           1.514833   \n",
       "std                                           NaN           0.851473   \n",
       "min                                           NaN           0.000000   \n",
       "25%                                           NaN           2.000000   \n",
       "50%                                           NaN           2.000000   \n",
       "75%                                           NaN           2.000000   \n",
       "max                                           NaN           2.000000   \n",
       "\n",
       "        weeks worked in year           year    target  \n",
       "count          199523.000000  199523.000000    199523  \n",
       "unique                   NaN            NaN         2  \n",
       "top                      NaN            NaN  - 50000.  \n",
       "freq                     NaN            NaN    187141  \n",
       "mean               23.174897      94.499672       NaN  \n",
       "std                24.411488       0.500001       NaN  \n",
       "min                 0.000000      94.000000       NaN  \n",
       "25%                 0.000000      94.000000       NaN  \n",
       "50%                 8.000000      94.000000       NaN  \n",
       "75%                52.000000      95.000000       NaN  \n",
       "max                52.000000      95.000000       NaN  \n",
       "\n",
       "[11 rows x 42 columns]"
      ]
     },
     "execution_count": 52,
     "metadata": {},
     "output_type": "execute_result"
    }
   ],
   "source": [
    "df_learning.describe(include = 'all')"
   ]
  },
  {
   "cell_type": "code",
   "execution_count": 53,
   "metadata": {
    "collapsed": false
   },
   "outputs": [
    {
     "data": {
      "text/html": [
       "<div>\n",
       "<table border=\"1\" class=\"dataframe\">\n",
       "  <thead>\n",
       "    <tr style=\"text-align: right;\">\n",
       "      <th></th>\n",
       "      <th>age</th>\n",
       "      <th>class of worker</th>\n",
       "      <th>detailed industry recode</th>\n",
       "      <th>detailed occupation recode</th>\n",
       "      <th>education</th>\n",
       "      <th>wage per hour</th>\n",
       "      <th>enroll in edu inst last wk</th>\n",
       "      <th>marital stat</th>\n",
       "      <th>major industry code</th>\n",
       "      <th>major occupation code</th>\n",
       "      <th>...</th>\n",
       "      <th>country of birth father</th>\n",
       "      <th>country of birth mother</th>\n",
       "      <th>country of birth self</th>\n",
       "      <th>citizenship</th>\n",
       "      <th>own business or self employed</th>\n",
       "      <th>fill inc questionnaire for veteran's admin</th>\n",
       "      <th>veterans benefits</th>\n",
       "      <th>weeks worked in year</th>\n",
       "      <th>year</th>\n",
       "      <th>target</th>\n",
       "    </tr>\n",
       "  </thead>\n",
       "  <tbody>\n",
       "    <tr>\n",
       "      <th>count</th>\n",
       "      <td>99762.000000</td>\n",
       "      <td>49683</td>\n",
       "      <td>99762.000000</td>\n",
       "      <td>99762.000000</td>\n",
       "      <td>99762</td>\n",
       "      <td>99762.000000</td>\n",
       "      <td>6338</td>\n",
       "      <td>99762</td>\n",
       "      <td>99762</td>\n",
       "      <td>49479</td>\n",
       "      <td>...</td>\n",
       "      <td>99762</td>\n",
       "      <td>99762</td>\n",
       "      <td>99762</td>\n",
       "      <td>99762</td>\n",
       "      <td>99762.000000</td>\n",
       "      <td>1027</td>\n",
       "      <td>99762.000000</td>\n",
       "      <td>99762.000000</td>\n",
       "      <td>99762.000000</td>\n",
       "      <td>99762</td>\n",
       "    </tr>\n",
       "    <tr>\n",
       "      <th>unique</th>\n",
       "      <td>NaN</td>\n",
       "      <td>8</td>\n",
       "      <td>NaN</td>\n",
       "      <td>NaN</td>\n",
       "      <td>17</td>\n",
       "      <td>NaN</td>\n",
       "      <td>2</td>\n",
       "      <td>7</td>\n",
       "      <td>24</td>\n",
       "      <td>14</td>\n",
       "      <td>...</td>\n",
       "      <td>43</td>\n",
       "      <td>43</td>\n",
       "      <td>43</td>\n",
       "      <td>5</td>\n",
       "      <td>NaN</td>\n",
       "      <td>2</td>\n",
       "      <td>NaN</td>\n",
       "      <td>NaN</td>\n",
       "      <td>NaN</td>\n",
       "      <td>2</td>\n",
       "    </tr>\n",
       "    <tr>\n",
       "      <th>top</th>\n",
       "      <td>NaN</td>\n",
       "      <td>Private</td>\n",
       "      <td>NaN</td>\n",
       "      <td>NaN</td>\n",
       "      <td>High school graduate</td>\n",
       "      <td>NaN</td>\n",
       "      <td>High school</td>\n",
       "      <td>Never married</td>\n",
       "      <td>Not in universe or children</td>\n",
       "      <td>Adm support including clerical</td>\n",
       "      <td>...</td>\n",
       "      <td>United-States</td>\n",
       "      <td>United-States</td>\n",
       "      <td>United-States</td>\n",
       "      <td>Native- Born in the United States</td>\n",
       "      <td>NaN</td>\n",
       "      <td>No</td>\n",
       "      <td>NaN</td>\n",
       "      <td>NaN</td>\n",
       "      <td>NaN</td>\n",
       "      <td>- 50000.</td>\n",
       "    </tr>\n",
       "    <tr>\n",
       "      <th>freq</th>\n",
       "      <td>NaN</td>\n",
       "      <td>36071</td>\n",
       "      <td>NaN</td>\n",
       "      <td>NaN</td>\n",
       "      <td>24147</td>\n",
       "      <td>NaN</td>\n",
       "      <td>3506</td>\n",
       "      <td>43143</td>\n",
       "      <td>50283</td>\n",
       "      <td>7252</td>\n",
       "      <td>...</td>\n",
       "      <td>79368</td>\n",
       "      <td>80013</td>\n",
       "      <td>88353</td>\n",
       "      <td>88355</td>\n",
       "      <td>NaN</td>\n",
       "      <td>828</td>\n",
       "      <td>NaN</td>\n",
       "      <td>NaN</td>\n",
       "      <td>NaN</td>\n",
       "      <td>93576</td>\n",
       "    </tr>\n",
       "    <tr>\n",
       "      <th>mean</th>\n",
       "      <td>34.628596</td>\n",
       "      <td>NaN</td>\n",
       "      <td>15.332812</td>\n",
       "      <td>11.331118</td>\n",
       "      <td>NaN</td>\n",
       "      <td>54.461268</td>\n",
       "      <td>NaN</td>\n",
       "      <td>NaN</td>\n",
       "      <td>NaN</td>\n",
       "      <td>NaN</td>\n",
       "      <td>...</td>\n",
       "      <td>NaN</td>\n",
       "      <td>NaN</td>\n",
       "      <td>NaN</td>\n",
       "      <td>NaN</td>\n",
       "      <td>0.178505</td>\n",
       "      <td>NaN</td>\n",
       "      <td>1.519827</td>\n",
       "      <td>23.185331</td>\n",
       "      <td>94.500652</td>\n",
       "      <td>NaN</td>\n",
       "    </tr>\n",
       "    <tr>\n",
       "      <th>std</th>\n",
       "      <td>22.333449</td>\n",
       "      <td>NaN</td>\n",
       "      <td>18.026709</td>\n",
       "      <td>14.459589</td>\n",
       "      <td>NaN</td>\n",
       "      <td>270.202643</td>\n",
       "      <td>NaN</td>\n",
       "      <td>NaN</td>\n",
       "      <td>NaN</td>\n",
       "      <td>NaN</td>\n",
       "      <td>...</td>\n",
       "      <td>NaN</td>\n",
       "      <td>NaN</td>\n",
       "      <td>NaN</td>\n",
       "      <td>NaN</td>\n",
       "      <td>0.558316</td>\n",
       "      <td>NaN</td>\n",
       "      <td>0.848229</td>\n",
       "      <td>24.389184</td>\n",
       "      <td>0.500002</td>\n",
       "      <td>NaN</td>\n",
       "    </tr>\n",
       "    <tr>\n",
       "      <th>min</th>\n",
       "      <td>0.000000</td>\n",
       "      <td>NaN</td>\n",
       "      <td>0.000000</td>\n",
       "      <td>0.000000</td>\n",
       "      <td>NaN</td>\n",
       "      <td>0.000000</td>\n",
       "      <td>NaN</td>\n",
       "      <td>NaN</td>\n",
       "      <td>NaN</td>\n",
       "      <td>NaN</td>\n",
       "      <td>...</td>\n",
       "      <td>NaN</td>\n",
       "      <td>NaN</td>\n",
       "      <td>NaN</td>\n",
       "      <td>NaN</td>\n",
       "      <td>0.000000</td>\n",
       "      <td>NaN</td>\n",
       "      <td>0.000000</td>\n",
       "      <td>0.000000</td>\n",
       "      <td>94.000000</td>\n",
       "      <td>NaN</td>\n",
       "    </tr>\n",
       "    <tr>\n",
       "      <th>25%</th>\n",
       "      <td>16.000000</td>\n",
       "      <td>NaN</td>\n",
       "      <td>0.000000</td>\n",
       "      <td>0.000000</td>\n",
       "      <td>NaN</td>\n",
       "      <td>0.000000</td>\n",
       "      <td>NaN</td>\n",
       "      <td>NaN</td>\n",
       "      <td>NaN</td>\n",
       "      <td>NaN</td>\n",
       "      <td>...</td>\n",
       "      <td>NaN</td>\n",
       "      <td>NaN</td>\n",
       "      <td>NaN</td>\n",
       "      <td>NaN</td>\n",
       "      <td>0.000000</td>\n",
       "      <td>NaN</td>\n",
       "      <td>2.000000</td>\n",
       "      <td>0.000000</td>\n",
       "      <td>94.000000</td>\n",
       "      <td>NaN</td>\n",
       "    </tr>\n",
       "    <tr>\n",
       "      <th>50%</th>\n",
       "      <td>33.000000</td>\n",
       "      <td>NaN</td>\n",
       "      <td>0.000000</td>\n",
       "      <td>0.000000</td>\n",
       "      <td>NaN</td>\n",
       "      <td>0.000000</td>\n",
       "      <td>NaN</td>\n",
       "      <td>NaN</td>\n",
       "      <td>NaN</td>\n",
       "      <td>NaN</td>\n",
       "      <td>...</td>\n",
       "      <td>NaN</td>\n",
       "      <td>NaN</td>\n",
       "      <td>NaN</td>\n",
       "      <td>NaN</td>\n",
       "      <td>0.000000</td>\n",
       "      <td>NaN</td>\n",
       "      <td>2.000000</td>\n",
       "      <td>8.000000</td>\n",
       "      <td>95.000000</td>\n",
       "      <td>NaN</td>\n",
       "    </tr>\n",
       "    <tr>\n",
       "      <th>75%</th>\n",
       "      <td>50.000000</td>\n",
       "      <td>NaN</td>\n",
       "      <td>33.000000</td>\n",
       "      <td>26.000000</td>\n",
       "      <td>NaN</td>\n",
       "      <td>0.000000</td>\n",
       "      <td>NaN</td>\n",
       "      <td>NaN</td>\n",
       "      <td>NaN</td>\n",
       "      <td>NaN</td>\n",
       "      <td>...</td>\n",
       "      <td>NaN</td>\n",
       "      <td>NaN</td>\n",
       "      <td>NaN</td>\n",
       "      <td>NaN</td>\n",
       "      <td>0.000000</td>\n",
       "      <td>NaN</td>\n",
       "      <td>2.000000</td>\n",
       "      <td>52.000000</td>\n",
       "      <td>95.000000</td>\n",
       "      <td>NaN</td>\n",
       "    </tr>\n",
       "    <tr>\n",
       "      <th>max</th>\n",
       "      <td>90.000000</td>\n",
       "      <td>NaN</td>\n",
       "      <td>51.000000</td>\n",
       "      <td>46.000000</td>\n",
       "      <td>NaN</td>\n",
       "      <td>9900.000000</td>\n",
       "      <td>NaN</td>\n",
       "      <td>NaN</td>\n",
       "      <td>NaN</td>\n",
       "      <td>NaN</td>\n",
       "      <td>...</td>\n",
       "      <td>NaN</td>\n",
       "      <td>NaN</td>\n",
       "      <td>NaN</td>\n",
       "      <td>NaN</td>\n",
       "      <td>2.000000</td>\n",
       "      <td>NaN</td>\n",
       "      <td>2.000000</td>\n",
       "      <td>52.000000</td>\n",
       "      <td>95.000000</td>\n",
       "      <td>NaN</td>\n",
       "    </tr>\n",
       "  </tbody>\n",
       "</table>\n",
       "<p>11 rows × 42 columns</p>\n",
       "</div>"
      ],
      "text/plain": [
       "                 age class of worker  detailed industry recode  \\\n",
       "count   99762.000000           49683              99762.000000   \n",
       "unique           NaN               8                       NaN   \n",
       "top              NaN         Private                       NaN   \n",
       "freq             NaN           36071                       NaN   \n",
       "mean       34.628596             NaN                 15.332812   \n",
       "std        22.333449             NaN                 18.026709   \n",
       "min         0.000000             NaN                  0.000000   \n",
       "25%        16.000000             NaN                  0.000000   \n",
       "50%        33.000000             NaN                  0.000000   \n",
       "75%        50.000000             NaN                 33.000000   \n",
       "max        90.000000             NaN                 51.000000   \n",
       "\n",
       "        detailed occupation recode             education  wage per hour  \\\n",
       "count                 99762.000000                 99762   99762.000000   \n",
       "unique                         NaN                    17            NaN   \n",
       "top                            NaN  High school graduate            NaN   \n",
       "freq                           NaN                 24147            NaN   \n",
       "mean                     11.331118                   NaN      54.461268   \n",
       "std                      14.459589                   NaN     270.202643   \n",
       "min                       0.000000                   NaN       0.000000   \n",
       "25%                       0.000000                   NaN       0.000000   \n",
       "50%                       0.000000                   NaN       0.000000   \n",
       "75%                      26.000000                   NaN       0.000000   \n",
       "max                      46.000000                   NaN    9900.000000   \n",
       "\n",
       "       enroll in edu inst last wk   marital stat          major industry code  \\\n",
       "count                        6338          99762                        99762   \n",
       "unique                          2              7                           24   \n",
       "top                   High school  Never married  Not in universe or children   \n",
       "freq                         3506          43143                        50283   \n",
       "mean                          NaN            NaN                          NaN   \n",
       "std                           NaN            NaN                          NaN   \n",
       "min                           NaN            NaN                          NaN   \n",
       "25%                           NaN            NaN                          NaN   \n",
       "50%                           NaN            NaN                          NaN   \n",
       "75%                           NaN            NaN                          NaN   \n",
       "max                           NaN            NaN                          NaN   \n",
       "\n",
       "                 major occupation code    ...    country of birth father  \\\n",
       "count                            49479    ...                      99762   \n",
       "unique                              14    ...                         43   \n",
       "top     Adm support including clerical    ...              United-States   \n",
       "freq                              7252    ...                      79368   \n",
       "mean                               NaN    ...                        NaN   \n",
       "std                                NaN    ...                        NaN   \n",
       "min                                NaN    ...                        NaN   \n",
       "25%                                NaN    ...                        NaN   \n",
       "50%                                NaN    ...                        NaN   \n",
       "75%                                NaN    ...                        NaN   \n",
       "max                                NaN    ...                        NaN   \n",
       "\n",
       "       country of birth mother country of birth self  \\\n",
       "count                    99762                 99762   \n",
       "unique                      43                    43   \n",
       "top              United-States         United-States   \n",
       "freq                     80013                 88353   \n",
       "mean                       NaN                   NaN   \n",
       "std                        NaN                   NaN   \n",
       "min                        NaN                   NaN   \n",
       "25%                        NaN                   NaN   \n",
       "50%                        NaN                   NaN   \n",
       "75%                        NaN                   NaN   \n",
       "max                        NaN                   NaN   \n",
       "\n",
       "                              citizenship own business or self employed  \\\n",
       "count                               99762                  99762.000000   \n",
       "unique                                  5                           NaN   \n",
       "top     Native- Born in the United States                           NaN   \n",
       "freq                                88355                           NaN   \n",
       "mean                                  NaN                      0.178505   \n",
       "std                                   NaN                      0.558316   \n",
       "min                                   NaN                      0.000000   \n",
       "25%                                   NaN                      0.000000   \n",
       "50%                                   NaN                      0.000000   \n",
       "75%                                   NaN                      0.000000   \n",
       "max                                   NaN                      2.000000   \n",
       "\n",
       "       fill inc questionnaire for veteran's admin  veterans benefits  \\\n",
       "count                                        1027       99762.000000   \n",
       "unique                                          2                NaN   \n",
       "top                                            No                NaN   \n",
       "freq                                          828                NaN   \n",
       "mean                                          NaN           1.519827   \n",
       "std                                           NaN           0.848229   \n",
       "min                                           NaN           0.000000   \n",
       "25%                                           NaN           2.000000   \n",
       "50%                                           NaN           2.000000   \n",
       "75%                                           NaN           2.000000   \n",
       "max                                           NaN           2.000000   \n",
       "\n",
       "        weeks worked in year          year    target  \n",
       "count           99762.000000  99762.000000     99762  \n",
       "unique                   NaN           NaN         2  \n",
       "top                      NaN           NaN  - 50000.  \n",
       "freq                     NaN           NaN     93576  \n",
       "mean               23.185331     94.500652       NaN  \n",
       "std                24.389184      0.500002       NaN  \n",
       "min                 0.000000     94.000000       NaN  \n",
       "25%                 0.000000     94.000000       NaN  \n",
       "50%                 8.000000     95.000000       NaN  \n",
       "75%                52.000000     95.000000       NaN  \n",
       "max                52.000000     95.000000       NaN  \n",
       "\n",
       "[11 rows x 42 columns]"
      ]
     },
     "execution_count": 53,
     "metadata": {},
     "output_type": "execute_result"
    }
   ],
   "source": [
    "df_test.describe(include = 'all')"
   ]
  },
  {
   "cell_type": "markdown",
   "metadata": {},
   "source": [
    "#### Highlighting the percentage of null values in each column"
   ]
  },
  {
   "cell_type": "code",
   "execution_count": 54,
   "metadata": {
    "collapsed": false,
    "scrolled": false
   },
   "outputs": [
    {
     "name": "stdout",
     "output_type": "stream",
     "text": [
      "age                                            0.000000\n",
      "class of worker                               50.242328\n",
      "detailed industry recode                       0.000000\n",
      "detailed occupation recode                     0.000000\n",
      "education                                      0.000000\n",
      "wage per hour                                  0.000000\n",
      "enroll in edu inst last wk                    93.694962\n",
      "marital stat                                   0.000000\n",
      "major industry code                            0.000000\n",
      "major occupation code                         50.462353\n",
      "race                                           0.000000\n",
      "hispanic origin                                0.438045\n",
      "sex                                            0.000000\n",
      "member of a labor union                       90.445212\n",
      "reason for unemployment                       96.957744\n",
      "full or part time employment stat              0.000000\n",
      "capital gains                                  0.000000\n",
      "capital losses                                 0.000000\n",
      "dividends from stocks                          0.000000\n",
      "tax filer stat                                 0.000000\n",
      "region of previous residence                  92.094646\n",
      "state of previous residence                   92.094646\n",
      "detailed household and family stat             0.000000\n",
      "detailed household summary in household        0.000000\n",
      "instance weight                                0.000000\n",
      "migration code-change in msa                   0.759812\n",
      "migration code-change in reg                   0.759812\n",
      "migration code-move within reg                 0.759812\n",
      "live in this house 1 year ago                  0.000000\n",
      "migration prev res in sunbelt                 42.127474\n",
      "num persons worked for employer                0.000000\n",
      "family members under 18                       72.288408\n",
      "country of birth father                        0.000000\n",
      "country of birth mother                        0.000000\n",
      "country of birth self                          0.000000\n",
      "citizenship                                    0.000000\n",
      "own business or self employed                  0.000000\n",
      "fill inc questionnaire for veteran's admin    99.005628\n",
      "veterans benefits                              0.000000\n",
      "weeks worked in year                           0.000000\n",
      "year                                           0.000000\n",
      "target                                         0.000000\n",
      "dtype: float64\n"
     ]
    }
   ],
   "source": [
    "print((df_learning.isnull().sum()/len(df_learning)*100))"
   ]
  },
  {
   "cell_type": "markdown",
   "metadata": {},
   "source": [
    "### Types of Columns"
   ]
  },
  {
   "cell_type": "code",
   "execution_count": 55,
   "metadata": {
    "collapsed": false,
    "scrolled": false
   },
   "outputs": [
    {
     "data": {
      "text/plain": [
       "age                                             int64\n",
       "class of worker                                object\n",
       "detailed industry recode                        int64\n",
       "detailed occupation recode                      int64\n",
       "education                                      object\n",
       "wage per hour                                   int64\n",
       "enroll in edu inst last wk                     object\n",
       "marital stat                                   object\n",
       "major industry code                            object\n",
       "major occupation code                          object\n",
       "race                                           object\n",
       "hispanic origin                                object\n",
       "sex                                            object\n",
       "member of a labor union                        object\n",
       "reason for unemployment                        object\n",
       "full or part time employment stat              object\n",
       "capital gains                                   int64\n",
       "capital losses                                  int64\n",
       "dividends from stocks                           int64\n",
       "tax filer stat                                 object\n",
       "region of previous residence                   object\n",
       "state of previous residence                    object\n",
       "detailed household and family stat             object\n",
       "detailed household summary in household        object\n",
       "instance weight                               float64\n",
       "migration code-change in msa                   object\n",
       "migration code-change in reg                   object\n",
       "migration code-move within reg                 object\n",
       "live in this house 1 year ago                  object\n",
       "migration prev res in sunbelt                  object\n",
       "num persons worked for employer                 int64\n",
       "family members under 18                        object\n",
       "country of birth father                        object\n",
       "country of birth mother                        object\n",
       "country of birth self                          object\n",
       "citizenship                                    object\n",
       "own business or self employed                   int64\n",
       "fill inc questionnaire for veteran's admin     object\n",
       "veterans benefits                               int64\n",
       "weeks worked in year                            int64\n",
       "year                                            int64\n",
       "target                                         object\n",
       "dtype: object"
      ]
     },
     "execution_count": 55,
     "metadata": {},
     "output_type": "execute_result"
    }
   ],
   "source": [
    "df_learning.dtypes"
   ]
  },
  {
   "cell_type": "markdown",
   "metadata": {
    "collapsed": false
   },
   "source": [
    "### Checking the distribution of Labels\n",
    "\n",
    "The distribution of labels shows that the data is highly biased with approximately 94% of the lables belonging to the class - 50000."
   ]
  },
  {
   "cell_type": "code",
   "execution_count": 56,
   "metadata": {
    "collapsed": false,
    "scrolled": false
   },
   "outputs": [
    {
     "name": "stdout",
     "output_type": "stream",
     "text": [
      "- 50000:  187141\n",
      "50000+ :  12382\n"
     ]
    },
    {
     "data": {
      "image/png": "[encoded data removed]",
      "text/plain": [
       "<matplotlib.figure.Figure at 0x13e004faf60>"
      ]
     },
     "metadata": {},
     "output_type": "display_data"
    }
   ],
   "source": [
    "#Checking counts of both classes\n",
    "A, B = df_learning['target'].value_counts()\n",
    "print('- 50000: ',A)\n",
    "print('50000+ : ',B)\n",
    "sns.countplot(df_learning['target'],label=\"Count\")\n",
    "plt.show()"
   ]
  },
  {
   "cell_type": "markdown",
   "metadata": {},
   "source": [
    "## Data Analysis"
   ]
  },
  {
   "cell_type": "markdown",
   "metadata": {},
   "source": [
    "The columns indicated in the metadata file are almost the same as in the data. The columns 0 represents the age and column 41 is the column which we want to predict. \n",
    "\n",
    "The pre-processing steps which I took are as follows:\n",
    "\n",
    "1 Converting the prediction column to binary labels ir (0 or 1) <br>\n",
    "2 Using one hot encoding to convert categorical data to integer data which produced 394 features <br>\n",
    "3 Feature selection using different methods\n"
   ]
  },
  {
   "cell_type": "markdown",
   "metadata": {},
   "source": [
    "## Data Pre-Processing"
   ]
  },
  {
   "cell_type": "code",
   "execution_count": 10,
   "metadata": {
    "collapsed": true
   },
   "outputs": [],
   "source": [
    "#Function to binarize labels in the form of 0 and 1\n",
    "def binarize(label):\n",
    "    if label[41] == '- 50000.':\n",
    "        return 0\n",
    "    else:\n",
    "        return 1"
   ]
  },
  {
   "cell_type": "code",
   "execution_count": 11,
   "metadata": {
    "collapsed": false,
    "scrolled": false
   },
   "outputs": [
    {
     "data": {
      "text/html": [
       "<div>\n",
       "<table border=\"1\" class=\"dataframe\">\n",
       "  <thead>\n",
       "    <tr style=\"text-align: right;\">\n",
       "      <th></th>\n",
       "      <th>labels</th>\n",
       "    </tr>\n",
       "  </thead>\n",
       "  <tbody>\n",
       "    <tr>\n",
       "      <th>0</th>\n",
       "      <td>0</td>\n",
       "    </tr>\n",
       "    <tr>\n",
       "      <th>1</th>\n",
       "      <td>0</td>\n",
       "    </tr>\n",
       "    <tr>\n",
       "      <th>2</th>\n",
       "      <td>0</td>\n",
       "    </tr>\n",
       "    <tr>\n",
       "      <th>3</th>\n",
       "      <td>0</td>\n",
       "    </tr>\n",
       "    <tr>\n",
       "      <th>4</th>\n",
       "      <td>0</td>\n",
       "    </tr>\n",
       "    <tr>\n",
       "      <th>5</th>\n",
       "      <td>0</td>\n",
       "    </tr>\n",
       "    <tr>\n",
       "      <th>6</th>\n",
       "      <td>0</td>\n",
       "    </tr>\n",
       "    <tr>\n",
       "      <th>7</th>\n",
       "      <td>0</td>\n",
       "    </tr>\n",
       "    <tr>\n",
       "      <th>8</th>\n",
       "      <td>0</td>\n",
       "    </tr>\n",
       "    <tr>\n",
       "      <th>9</th>\n",
       "      <td>0</td>\n",
       "    </tr>\n",
       "  </tbody>\n",
       "</table>\n",
       "</div>"
      ],
      "text/plain": [
       "   labels\n",
       "0       0\n",
       "1       0\n",
       "2       0\n",
       "3       0\n",
       "4       0\n",
       "5       0\n",
       "6       0\n",
       "7       0\n",
       "8       0\n",
       "9       0"
      ]
     },
     "execution_count": 11,
     "metadata": {},
     "output_type": "execute_result"
    }
   ],
   "source": [
    "#Binarize the label of training and test set\n",
    "y_train = pd.DataFrame()\n",
    "y_train['labels'] = df_learning.apply(binarize, axis=1)\n",
    "\n",
    "y_test = pd.DataFrame()\n",
    "y_test['labels'] = df_test.apply(binarize, axis=1)\n",
    "\n",
    "del df_learning['target']\n",
    "del df_test['target']\n",
    "\n",
    "y_train.head(10)"
   ]
  },
  {
   "cell_type": "code",
   "execution_count": 12,
   "metadata": {
    "collapsed": false
   },
   "outputs": [
    {
     "data": {
      "text/html": [
       "<div>\n",
       "<table border=\"1\" class=\"dataframe\">\n",
       "  <thead>\n",
       "    <tr style=\"text-align: right;\">\n",
       "      <th></th>\n",
       "      <th>labels</th>\n",
       "    </tr>\n",
       "  </thead>\n",
       "  <tbody>\n",
       "    <tr>\n",
       "      <th>count</th>\n",
       "      <td>199523.000000</td>\n",
       "    </tr>\n",
       "    <tr>\n",
       "      <th>mean</th>\n",
       "      <td>0.062058</td>\n",
       "    </tr>\n",
       "    <tr>\n",
       "      <th>std</th>\n",
       "      <td>0.241261</td>\n",
       "    </tr>\n",
       "    <tr>\n",
       "      <th>min</th>\n",
       "      <td>0.000000</td>\n",
       "    </tr>\n",
       "    <tr>\n",
       "      <th>25%</th>\n",
       "      <td>0.000000</td>\n",
       "    </tr>\n",
       "    <tr>\n",
       "      <th>50%</th>\n",
       "      <td>0.000000</td>\n",
       "    </tr>\n",
       "    <tr>\n",
       "      <th>75%</th>\n",
       "      <td>0.000000</td>\n",
       "    </tr>\n",
       "    <tr>\n",
       "      <th>max</th>\n",
       "      <td>1.000000</td>\n",
       "    </tr>\n",
       "  </tbody>\n",
       "</table>\n",
       "</div>"
      ],
      "text/plain": [
       "              labels\n",
       "count  199523.000000\n",
       "mean        0.062058\n",
       "std         0.241261\n",
       "min         0.000000\n",
       "25%         0.000000\n",
       "50%         0.000000\n",
       "75%         0.000000\n",
       "max         1.000000"
      ]
     },
     "execution_count": 12,
     "metadata": {},
     "output_type": "execute_result"
    }
   ],
   "source": [
    "y_train.describe(include = 'all')"
   ]
  },
  {
   "cell_type": "code",
   "execution_count": 13,
   "metadata": {
    "collapsed": false,
    "scrolled": false
   },
   "outputs": [
    {
     "data": {
      "text/plain": [
       "age                                               0\n",
       "class of worker                                   0\n",
       "detailed industry recode                          0\n",
       "detailed occupation recode                        0\n",
       "education                                         0\n",
       "wage per hour                                     0\n",
       "enroll in edu inst last wk                        0\n",
       "marital stat                                      0\n",
       "major industry code                               0\n",
       "major occupation code                             0\n",
       "race                                              0\n",
       "hispanic origin                                   0\n",
       "sex                                               0\n",
       "member of a labor union                           0\n",
       "reason for unemployment                           0\n",
       "full or part time employment stat                 0\n",
       "capital gains                                     0\n",
       "capital losses                                    0\n",
       "dividends from stocks                             0\n",
       "tax filer stat                                    0\n",
       "region of previous residence                      0\n",
       "state of previous residence                     708\n",
       "detailed household and family stat                0\n",
       "detailed household summary in household           0\n",
       "instance weight                                   0\n",
       "migration code-change in msa                  99696\n",
       "migration code-change in reg                  99696\n",
       "migration code-move within reg                99696\n",
       "live in this house 1 year ago                     0\n",
       "migration prev res in sunbelt                 99696\n",
       "num persons worked for employer                   0\n",
       "family members under 18                           0\n",
       "country of birth father                        6713\n",
       "country of birth mother                        6119\n",
       "country of birth self                          3393\n",
       "citizenship                                       0\n",
       "own business or self employed                     0\n",
       "fill inc questionnaire for veteran's admin        0\n",
       "veterans benefits                                 0\n",
       "weeks worked in year                              0\n",
       "year                                              0\n",
       "dtype: int64"
      ]
     },
     "execution_count": 13,
     "metadata": {},
     "output_type": "execute_result"
    }
   ],
   "source": [
    "#checking the number of ? in the data\n",
    "def cc(x):\n",
    "    return sum(x=='?')\n",
    "\n",
    "df_learning.apply(cc)"
   ]
  },
  {
   "cell_type": "markdown",
   "metadata": {},
   "source": [
    "## One Hot Encoding of Features\n",
    "\n",
    "Using one hot encoding to convert categorical data to integer data which produced 394 features "
   ]
  },
  {
   "cell_type": "code",
   "execution_count": 14,
   "metadata": {
    "collapsed": true
   },
   "outputs": [],
   "source": [
    "#One-hot encode all categorical features\n",
    "def one_hot_encode(df_train, df_test):\n",
    "    cat_var_train = df_train.select_dtypes(include=[np.object]).columns.tolist()\n",
    "    df_train_num = df_train.drop(cat_var_train, axis=1, inplace=False, errors='ignore')\n",
    "    df_train_cat_dummies = pd.get_dummies(df_train[cat_var_train])\n",
    "    \n",
    "    # Re-merge the categorical and continuous features\n",
    "    merged_train = pd.merge(df_train_cat_dummies, df_train_num, left_index=True, right_index=True, how='inner')\n",
    "    \n",
    "    cat_var_test = df_test.select_dtypes(include=[np.object]).columns.tolist()\n",
    "    df_test_num = df_test.drop(cat_var_test, axis=1, inplace=False, errors='ignore')\n",
    "    df_test_cat_dummies = pd.get_dummies(df_test[cat_var_test])\n",
    "    \n",
    "    # Re-merge the categorical and continuous features\n",
    "    merged_test = pd.merge(df_test_cat_dummies, df_test_num, left_index=True, right_index=True, how='inner')\n",
    "\n",
    "    \n",
    "    if len(merged_train.columns) != len(merged_test.columns):\n",
    "        for newcol in merged_train:\n",
    "            if newcol not in merged_test.columns:\n",
    "                del merged_train[newcol]\n",
    "                \n",
    "    return merged_train, merged_test"
   ]
  },
  {
   "cell_type": "code",
   "execution_count": 15,
   "metadata": {
    "collapsed": false
   },
   "outputs": [
    {
     "name": "stdout",
     "output_type": "stream",
     "text": [
      "Training Set =  (199523, 394)\n",
      "Test Set =  (99762, 394)\n"
     ]
    }
   ],
   "source": [
    "X_train, X_test = one_hot_encode(df_learning, df_test)\n",
    "print('Training Set = ', X_train.shape)\n",
    "print('Test Set = ', X_test.shape)"
   ]
  },
  {
   "cell_type": "markdown",
   "metadata": {},
   "source": [
    "## Feature Selection\n",
    "\n",
    "Feature selection was done using the following methods:\n",
    "\n",
    "1 PCA  <br>\n",
    "2 Univariate feature selection  <br>\n",
    "3 Removing features with low variance  <br>\n",
    "4 Tree based feature selection and random forest classification <br>\n",
    "\n",
    "\n",
    "http://scikit-learn.org/stable/modules/feature_selection.html<br>\n",
    "http://scikit-learn.org/stable/modules/generated/sklearn.decomposition.PCA.html"
   ]
  },
  {
   "cell_type": "markdown",
   "metadata": {},
   "source": [
    "### 1. PCA"
   ]
  },
  {
   "cell_type": "code",
   "execution_count": 57,
   "metadata": {
    "collapsed": false,
    "scrolled": false
   },
   "outputs": [
    {
     "data": {
      "image/png": "[encoded data removed]",
      "text/plain": [
       "<matplotlib.figure.Figure at 0x13e004fa4e0>"
      ]
     },
     "metadata": {},
     "output_type": "display_data"
    }
   ],
   "source": [
    "#Find top 50 features using PCA\n",
    "pca = PCA(n_components= 50)\n",
    "X_train_pca = pca.fit_transform(X_train)\n",
    "X_test_pca = pca.transform(X_test)\n",
    "\n",
    "plt.figure(1, figsize=(6, 5))\n",
    "plt.clf()\n",
    "plt.plot(pca.explained_variance_ratio_, linewidth=2)\n",
    "plt.axis('tight')\n",
    "plt.xlabel('n_components')\n",
    "plt.ylabel('explained_variance_ratio_')\n",
    "plt.show()"
   ]
  },
  {
   "cell_type": "markdown",
   "metadata": {},
   "source": [
    "### 2. Univariate feature selection"
   ]
  },
  {
   "cell_type": "markdown",
   "metadata": {},
   "source": [
    "#### SelectKBest with chi2"
   ]
  },
  {
   "cell_type": "code",
   "execution_count": 17,
   "metadata": {
    "collapsed": false
   },
   "outputs": [],
   "source": [
    "#Find best scored 30 features with chi2\n",
    "select_feature_kbest_1 = SelectKBest(chi2, k=30).fit(X_train, y_train.values.ravel())\n",
    "X_train_kbest_1 = select_feature_kbest_1.transform(X_train)\n",
    "X_test_kbest_1 = select_feature_kbest_1.transform(X_test)"
   ]
  },
  {
   "cell_type": "markdown",
   "metadata": {},
   "source": [
    "#### SelectKBest with f_classif"
   ]
  },
  {
   "cell_type": "code",
   "execution_count": 18,
   "metadata": {
    "collapsed": false
   },
   "outputs": [],
   "source": [
    "#Find best scored 30 features with f_classif\n",
    "select_feature_kbest_2 = SelectKBest(f_classif, k=30).fit(X_train, y_train.values.ravel())\n",
    "X_train_kbest_2 = select_feature_kbest_2.transform(X_train)\n",
    "X_test_kbest_2 = select_feature_kbest_2.transform(X_test)"
   ]
  },
  {
   "cell_type": "markdown",
   "metadata": {},
   "source": [
    "#### SelectPercentile with chi2"
   ]
  },
  {
   "cell_type": "code",
   "execution_count": 19,
   "metadata": {
    "collapsed": false
   },
   "outputs": [],
   "source": [
    "#Find top 10 percent features with chi2\n",
    "select_feature_percent_2 = SelectPercentile(chi2, percentile = 10).fit(X_train, y_train.values.ravel())\n",
    "X_train_percent_2 = select_feature_percent_2.transform(X_train)\n",
    "X_test_percent_2= select_feature_percent_2.transform(X_test)"
   ]
  },
  {
   "cell_type": "markdown",
   "metadata": {},
   "source": [
    "#### SelectPercentile with f_classif"
   ]
  },
  {
   "cell_type": "code",
   "execution_count": 20,
   "metadata": {
    "collapsed": true
   },
   "outputs": [],
   "source": [
    "#Find top 10 percent features with f_classif\n",
    "select_feature_percent_3 = SelectPercentile(f_classif, percentile = 10).fit(X_train, y_train.values.ravel())\n",
    "X_train_percent_3 = select_feature_percent_3.transform(X_train)\n",
    "X_test_percent_3 = select_feature_percent_3.transform(X_test)"
   ]
  },
  {
   "cell_type": "markdown",
   "metadata": {},
   "source": [
    "### 3. Removing features with low variance"
   ]
  },
  {
   "cell_type": "code",
   "execution_count": 21,
   "metadata": {
    "collapsed": false
   },
   "outputs": [],
   "source": [
    "#Find features with 90% variance threshold\n",
    "select_feature_var_2 = VarianceThreshold(threshold=(.9 * (1 - .9))).fit(X_train, y_train.values.ravel())\n",
    "X_train_var_2 = select_feature_var_2.transform(X_train)\n",
    "X_test_var_2 = select_feature_var_2.transform(X_test)"
   ]
  },
  {
   "cell_type": "markdown",
   "metadata": {},
   "source": [
    "### 4. Tree based feature selection and random forest classification"
   ]
  },
  {
   "cell_type": "code",
   "execution_count": 22,
   "metadata": {
    "collapsed": false,
    "scrolled": false
   },
   "outputs": [],
   "source": [
    "clf_rf_5 = RandomForestClassifier()      \n",
    "clr_rf_5 = clf_rf_5.fit(X_train,y_train.values.ravel())\n",
    "importances = clr_rf_5.feature_importances_\n",
    "std = np.std([tree.feature_importances_ for tree in clf_rf_5.estimators_],\n",
    "             axis=0)\n",
    "indices = np.argsort(importances)[::-1]"
   ]
  },
  {
   "cell_type": "markdown",
   "metadata": {},
   "source": [
    "#### The top features which are important are clear in the following histogram which shows which of them are highly important for the classification process"
   ]
  },
  {
   "cell_type": "code",
   "execution_count": 58,
   "metadata": {
    "collapsed": false
   },
   "outputs": [
    {
     "data": {
      "image/png": "[encoded data removed]",
      "text/plain": [
       "<matplotlib.figure.Figure at 0x13e0068f978>"
      ]
     },
     "metadata": {},
     "output_type": "display_data"
    }
   ],
   "source": [
    "# Plot the feature importances of the features\n",
    "plt.figure(1, figsize=(6, 4))\n",
    "plt.title(\"Feature importances\")\n",
    "plt.bar(range(15), importances[indices][:15],\n",
    "       color=\"g\", yerr=std[indices][:15], align=\"center\")\n",
    "plt.ylabel('Importances')\n",
    "plt.xticks(range(15), X_train.columns[indices][:15],rotation=90)\n",
    "plt.xlim([-1, 15])\n",
    "plt.show()"
   ]
  },
  {
   "cell_type": "markdown",
   "metadata": {},
   "source": [
    "## Model Selection from Training Data\n",
    "\n",
    "The following models were fitted on the training data with all the different feature selection methods:\n",
    "\n",
    "Logistic Regression <br> \n",
    "Decision Tree <br>\n",
    "Bernoulli Naive Bayes <br>\n",
    "Gaussian Naive Bayes <br>\n",
    "Random Forest <br>\n",
    "Ada Boost <br>\n",
    "Gradient Boosting <br> \n",
    "Neural Network <br>\n",
    "\n",
    "Top 4 High Performing models were chosen to be tested on test data according to the Area under the ROC curve\n"
   ]
  },
  {
   "cell_type": "code",
   "execution_count": 24,
   "metadata": {
    "collapsed": false
   },
   "outputs": [],
   "source": [
    "# Benchmark classifiers\n",
    "def benchmark(clf, train_X, test_X):\n",
    "    clf.fit(train_X, y_train.values.ravel())\n",
    "    pred = clf.predict(train_X)\n",
    "    score = cross_val_score(clf, train_X, y_train.values.ravel(), cv=5)\n",
    "    cm = confusion_matrix(y_train.values.ravel(),pred)\n",
    "    fpr, tpr, thresholds = roc_curve(y_train, pred)\n",
    "    roc_auc = auc(fpr, tpr)\n",
    "    return roc_auc, np.mean(score)"
   ]
  },
  {
   "cell_type": "code",
   "execution_count": 25,
   "metadata": {
    "collapsed": false
   },
   "outputs": [],
   "source": [
    "models_names = ['Logistic Regression', 'Decision Tree', 'Bernoulli Naive Bayes', 'Gaussian Naive Bayes', 'Random Forest', 'Ada Boost',\n",
    "         'Gradient Boosting', 'Neural Network']\n",
    "\n",
    "models = [LogisticRegression(),  tree.DecisionTreeClassifier(min_samples_leaf=4), BernoulliNB(), GaussianNB(), RandomForestClassifier(n_estimators=400, min_samples_leaf=4, n_jobs=-1), \n",
    "          AdaBoostClassifier(), GradientBoostingClassifier(), MLPClassifier(alpha = 1e-3) ]\n",
    "\n",
    "\n",
    "features_names = ['All','SelectKBest chi2', 'SelectKBest f_classif', 'Select Percentile chi2', 'Select Percentile f_classif', \n",
    "            'Removing features with low variance', 'PCA']\n",
    "\n",
    "features = [(X_train, X_test), (X_train_kbest_1, X_test_kbest_1), (X_train_kbest_2, X_test_kbest_2), \n",
    "            (X_train_percent_2, X_test_percent_2), (X_train_percent_3, X_test_percent_3),\n",
    "           (X_train_var_2, X_test_var_2), (X_train_pca, X_test_pca)]"
   ]
  },
  {
   "cell_type": "code",
   "execution_count": 26,
   "metadata": {
    "collapsed": false,
    "scrolled": true
   },
   "outputs": [
    {
     "name": "stdout",
     "output_type": "stream",
     "text": [
      "Training\n"
     ]
    }
   ],
   "source": [
    "acc_train = {}\n",
    "auc_train = {}\n",
    "print('Training')\n",
    "for clf, name in zip(models, models_names):\n",
    "    for feat, feat_name in zip(features, features_names):\n",
    "        final_n = name + ',' + feat_name\n",
    "        auc_train[final_n], acc_train[final_n] = benchmark(clf, feat[0], feat[1])"
   ]
  },
  {
   "cell_type": "code",
   "execution_count": 59,
   "metadata": {
    "collapsed": false,
    "scrolled": false
   },
   "outputs": [
    {
     "data": {
      "image/png": "[encoded data removed]",
      "text/plain": [
       "<matplotlib.figure.Figure at 0x13e085a5908>"
      ]
     },
     "metadata": {},
     "output_type": "display_data"
    }
   ],
   "source": [
    "auc_sort= sorted(auc_train.items(), key=lambda x: x[1], reverse = True)\n",
    "auc_sort = dict(auc_sort[:15])\n",
    "plt.title('Area Under ROC Curve of Top 15 Classifiers on Training Set')\n",
    "plt.bar(range(len(auc_sort)), auc_sort.values(), align='center')\n",
    "plt.ylabel('Area under ROC curve')\n",
    "plt.xticks(range(len(auc_sort)), list(auc_sort.keys()), rotation='vertical')\n",
    "plt.show()"
   ]
  },
  {
   "cell_type": "code",
   "execution_count": 60,
   "metadata": {
    "collapsed": false,
    "scrolled": false
   },
   "outputs": [
    {
     "data": {
      "image/png": "[encoded data removed]",
      "text/plain": [
       "<matplotlib.figure.Figure at 0x13e078b66a0>"
      ]
     },
     "metadata": {},
     "output_type": "display_data"
    }
   ],
   "source": [
    "acc_sort= sorted(acc_train.items(), key=lambda x: x[1], reverse = True)\n",
    "acc_sort = dict(acc_sort[:15])\n",
    "plt.title('Accuracy of Top 15 Classifiers')\n",
    "plt.bar(range(len(acc_sort)), acc_sort.values(), align='center')\n",
    "plt.ylabel('Accuracy')\n",
    "plt.xticks(range(len(acc_sort)), list(acc_sort.keys()), rotation='vertical')\n",
    "plt.show()"
   ]
  },
  {
   "cell_type": "markdown",
   "metadata": {},
   "source": [
    "## Applying Top Models to Test Data\n",
    "\n",
    "The top performing models according to Ares under ROC\n",
    "\n",
    "Decision Tree <br>\n",
    "Bernoulli Naive Bayes <br>\n",
    "Gaussian Naive Bayes <br>\n",
    "Random Forest <br>"
   ]
  },
  {
   "cell_type": "code",
   "execution_count": 39,
   "metadata": {
    "collapsed": true
   },
   "outputs": [],
   "source": [
    "models_names = ['Decision Tree', 'Bernoulli Naive Bayes', 'Gaussian Naive Bayes', 'Random Forest']\n",
    "\n",
    "models = [tree.DecisionTreeClassifier(min_samples_leaf=5), BernoulliNB(), GaussianNB(), RandomForestClassifier(n_estimators=400, min_samples_leaf=5, n_jobs=-1)]\n",
    "\n",
    "features = [(X_train_kbest_1, X_test_kbest_1)]"
   ]
  },
  {
   "cell_type": "code",
   "execution_count": 62,
   "metadata": {
    "collapsed": false,
    "scrolled": false
   },
   "outputs": [
    {
     "name": "stdout",
     "output_type": "stream",
     "text": [
      "Testing ...\n"
     ]
    },
    {
     "data": {
      "image/png": "[encoded data removed]",
      "text/plain": [
       "<matplotlib.figure.Figure at 0x13e0786ad30>"
      ]
     },
     "metadata": {},
     "output_type": "display_data"
    }
   ],
   "source": [
    "acc_test = {}\n",
    "auc_test = {}\n",
    "print('Testing ...')\n",
    "for clf, name in zip(models, models_names):\n",
    "    final_n = name + ',' + 'SelectKBest chi2'\n",
    "    clf.fit(feat[0], y_train.values.ravel())\n",
    "    pred = clf.predict(feat[1])\n",
    "    score = cross_val_score(clf, feat[1], y_test.values.ravel(), cv=5)\n",
    "    cm = confusion_matrix(y_test.values.ravel(),pred)\n",
    "    fpr, tpr, thresholds = roc_curve(y_test, pred)\n",
    "    roc_auc = auc(fpr, tpr)\n",
    "    auc_test[final_n] = roc_auc\n",
    "    acc_test[final_n] = np.mean(score)\n",
    "    plt.plot(fpr, tpr, label='%s ROC (area = %0.3f)' % (final_n, roc_auc))\n",
    "    \n",
    "plt.title('Area Under ROC Curve of Top 4 Classifiers on Test Set')\n",
    "plt.plot([0, 1], [0, 1], 'k--')\n",
    "plt.xlim([0.0, 1.0])\n",
    "plt.ylim([0.0, 1.0])\n",
    "plt.xlabel('False Positive Rate')\n",
    "plt.ylabel('True Positive Rate')\n",
    "plt.legend(loc=0, fontsize='small')\n",
    "plt.show()"
   ]
  },
  {
   "cell_type": "code",
   "execution_count": 63,
   "metadata": {
    "collapsed": false,
    "scrolled": false
   },
   "outputs": [
    {
     "data": {
      "image/png": "[encoded data removed]",
      "text/plain": [
       "<matplotlib.figure.Figure at 0x13e072a8828>"
      ]
     },
     "metadata": {},
     "output_type": "display_data"
    }
   ],
   "source": [
    "acc_sort_test= sorted(acc_test.items(), key=lambda x: x[1], reverse = True)\n",
    "acc_sort_test = dict(acc_sort_test[:4])\n",
    "plt.title('Accuracy of Top 4 Classifiers on Test Set')\n",
    "plt.ylabel('Accuracy')\n",
    "plt.bar(range(len(acc_sort_test)), acc_sort_test.values(), align='center')\n",
    "plt.xticks(range(len(acc_sort_test)), list(acc_sort_test.keys()), rotation='vertical')\n",
    "plt.show()"
   ]
  },
  {
   "cell_type": "markdown",
   "metadata": {},
   "source": [
    "# Conclusion\n",
    "\n",
    "The given data have been experimented with different models. The following insights were derived.<br>\n",
    "\n",
    "The feature selection approach aims to select a subset of features that minimize redundancy and maximize relevance to the target such as the class labels in classification. Feature selection in our case shows clearly that features like age, weeks worked, capital gains, education etc are the factors contributing to the increase in the income of the people and in this case maximize relevance to the target classes and are clearly indicated in one of the above histograms. <br>\n",
    "\n",
    "The difficult part was to select which features to use for the classification and also the data which was highly biased. When we train on an imbalanced dataset, the reason we get greater 94% accuracy on an imbalanced data (with 94% of the instances in Class-1) is because our models look at the data and cleverly decide that the best thing to do is to always predict “Class-1” and achieve high accuracy. This is best seen when using a simple rule based algorithm. If we analyze the rule in the final model you will see that it is very likely predicting one class regardless of the data it is asked to predict.<br>\n",
    "\n",
    "ROC curve was used to evaluate the models. One of the advantages of ROC curves is that they are insensitive to changes in class distribution, evaluate learning in the presence of unbalanced classes. Accuracy Measure shows a slighlty different picture. It is the case where your accuracy measures tells that you have excellent accuracy (such as 90%), but the accuracy is only reflecting the underlying class distribution.<br>\n",
    "\n",
    "Model selection is the process of choosing between different machine learning approaches - e.g. Naive Bayes, logistic regression, etc.<br>\n",
    "\n",
    "The ROC curve above shows the top performing model is Naive Bayes as it handles the unbalanced and highly biased data well. It has the greatest Area under the ROC curve value. Naive Bayes has a higher bias but lower variance. If the data set follows the bias then Naive Bayes will be a better classifier.<br>"
   ]
  }
 ],
 "metadata": {
  "anaconda-cloud": {},
  "kernelspec": {
   "display_name": "Python [default]",
   "language": "python",
   "name": "python3"
  },
  "language_info": {
   "codemirror_mode": {
    "name": "ipython",
    "version": 3
   },
   "file_extension": ".py",
   "mimetype": "text/x-python",
   "name": "python",
   "nbconvert_exporter": "python",
   "pygments_lexer": "ipython3",
   "version": "3.5.2"
  }
 },
 "nbformat": 4,
 "nbformat_minor": 1
}
